{
 "cells": [
  {
   "cell_type": "code",
   "execution_count": 1,
   "id": "4bfd206a-625e-4387-82d7-cade28e5cc30",
   "metadata": {},
   "outputs": [],
   "source": [
    "%run get_env.py"
   ]
  },
  {
   "cell_type": "code",
   "execution_count": 2,
   "id": "df9589e3-e368-4594-b443-aca58574c97f",
   "metadata": {},
   "outputs": [],
   "source": [
    "from typing import List\n",
    "from typing import Optional\n",
    "from sqlalchemy import ForeignKey\n",
    "from sqlalchemy import String\n",
    "from sqlalchemy.orm import DeclarativeBase\n",
    "from sqlalchemy.orm import Mapped\n",
    "from sqlalchemy.orm import mapped_column\n",
    "from sqlalchemy.orm import relationship\n",
    "\n",
    "class Base(DeclarativeBase):\n",
    "    pass\n",
    "\n",
    "class User(Base):\n",
    "    __tablename__ = \"user_account\"\n",
    "    id: Mapped[int] = mapped_column(primary_key=True)\n",
    "    name: Mapped[str] = mapped_column(String(30))\n",
    "    fullname: Mapped[Optional[str]]\n",
    "    addresses: Mapped[List[\"Address\"]] = relationship(\n",
    "        back_populates=\"user\", cascade=\"all, delete-orphan\"\n",
    "    )\n",
    "    def __repr__(self) -> str:\n",
    "        return f\"User(id={self.id!r}, name={self.name!r}, fullname={self.fullname!r})\"\n",
    "\n",
    "class Address(Base):\n",
    "    __tablename__ = \"address\"\n",
    "    id: Mapped[int] = mapped_column(primary_key=True)\n",
    "    email_address: Mapped[str]\n",
    "    user_id: Mapped[int] = mapped_column(ForeignKey(\"user_account.id\"))\n",
    "    user: Mapped[\"User\"] = relationship(back_populates=\"addresses\")\n",
    "    def __repr__(self) -> str:\n",
    "        return f\"Address(id={self.id!r}, email_address={self.email_address!r})\""
   ]
  },
  {
   "cell_type": "code",
   "execution_count": 3,
   "id": "1b0501cc-6735-4398-a555-fea5a3f1ea99",
   "metadata": {},
   "outputs": [],
   "source": [
    "from sqlalchemy import create_engine\n",
    "engine = create_engine(\n",
    "    f\"postgresql+psycopg://{user}:{password}@{host}/{dbname}\"\n",
    ")"
   ]
  },
  {
   "cell_type": "code",
   "execution_count": 4,
   "id": "f61b44a9-7154-477d-b4dc-e5c9b4cd62e0",
   "metadata": {},
   "outputs": [],
   "source": [
    "Base.metadata.create_all(engine)"
   ]
  },
  {
   "cell_type": "code",
   "execution_count": 5,
   "id": "e35c8591-cade-4a6b-bbfd-e8ec5adedbdc",
   "metadata": {},
   "outputs": [],
   "source": [
    "from sqlalchemy.orm import Session\n",
    "\n",
    "with Session(engine) as session:\n",
    "    spongebob = User(\n",
    "        name=\"spongebob\",\n",
    "        fullname=\"Spongebob Squarepants\",\n",
    "        addresses=[Address(email_address=\"spongebob@sqlalchemy.org\")],\n",
    "    )\n",
    "    sandy = User(\n",
    "        name=\"sandy\",\n",
    "        fullname=\"Sandy Cheeks\",\n",
    "        addresses=[\n",
    "            Address(email_address=\"sandy@sqlalchemy.org\"),\n",
    "            Address(email_address=\"sandy@squirrelpower.org\"),\n",
    "        ],\n",
    "    )\n",
    "    patrick = User(name=\"patrick\", fullname=\"Patrick Star\")\n",
    "    session.add_all([spongebob, sandy, patrick])\n",
    "    session.commit()"
   ]
  },
  {
   "cell_type": "code",
   "execution_count": 6,
   "id": "9c281115-b166-41e2-9521-03cffb64891b",
   "metadata": {},
   "outputs": [
    {
     "name": "stdout",
     "output_type": "stream",
     "text": [
      "User(id=1, name='spongebob', fullname='Spongebob Squarepants')\n",
      "User(id=2, name='sandy', fullname='Sandy Cheeks')\n"
     ]
    }
   ],
   "source": [
    "from sqlalchemy import select\n",
    "\n",
    "session = Session(engine)\n",
    "\n",
    "stmt = select(User).where(User.name.in_([\"spongebob\", \"sandy\"]))\n",
    "\n",
    "for user in session.scalars(stmt):\n",
    "    print(user)"
   ]
  },
  {
   "cell_type": "code",
   "execution_count": 7,
   "id": "71320c01-06ee-44fb-b39b-75641b529329",
   "metadata": {},
   "outputs": [
    {
     "data": {
      "text/plain": [
       "Address(id=2, email_address='sandy@sqlalchemy.org')"
      ]
     },
     "execution_count": 7,
     "metadata": {},
     "output_type": "execute_result"
    }
   ],
   "source": [
    "stmt = (\n",
    "    select(Address)\n",
    "    .join(Address.user)\n",
    "    .where(User.name == \"sandy\")\n",
    "    .where(Address.email_address == \"sandy@sqlalchemy.org\")\n",
    ")\n",
    "sandy_address = session.scalars(stmt).one()\n",
    "sandy_address"
   ]
  },
  {
   "cell_type": "code",
   "execution_count": 8,
   "id": "c2dc1670-261f-4047-b29c-f248401dc467",
   "metadata": {},
   "outputs": [],
   "source": [
    "stmt = select(User).where(User.name == \"patrick\")\n",
    "patrick = session.scalars(stmt).one()\n",
    "patrick.addresses.append(Address(email_address=\"patrickstar@sqlalchemy.org\"))\n",
    "sandy_address.email_address = \"sandy_cheeks@sqlalchemy.org\"\n",
    "\n",
    "session.commit()"
   ]
  },
  {
   "cell_type": "code",
   "execution_count": 9,
   "id": "5daa2000-5c2f-407c-8c3e-18e080b15d36",
   "metadata": {},
   "outputs": [],
   "source": [
    "sandy = session.get(User, 2)\n",
    "sandy.addresses.remove(sandy_address)"
   ]
  },
  {
   "cell_type": "code",
   "execution_count": 10,
   "id": "8474931c-39b5-4c26-a34d-07cdfc4aa75f",
   "metadata": {},
   "outputs": [],
   "source": [
    "session.flush()"
   ]
  },
  {
   "cell_type": "code",
   "execution_count": 11,
   "id": "e98e1049-a9fd-4504-aa5d-629ad7c9ac13",
   "metadata": {},
   "outputs": [],
   "source": [
    "session.delete(patrick)"
   ]
  },
  {
   "cell_type": "code",
   "execution_count": 12,
   "id": "5d1c132c-dd9a-490a-a129-b2db59fb136e",
   "metadata": {},
   "outputs": [],
   "source": [
    "session.commit()"
   ]
  }
 ],
 "metadata": {
  "kernelspec": {
   "display_name": "Python 3 (ipykernel)",
   "language": "python",
   "name": "python3"
  },
  "language_info": {
   "codemirror_mode": {
    "name": "ipython",
    "version": 3
   },
   "file_extension": ".py",
   "mimetype": "text/x-python",
   "name": "python",
   "nbconvert_exporter": "python",
   "pygments_lexer": "ipython3",
   "version": "3.12.4"
  }
 },
 "nbformat": 4,
 "nbformat_minor": 5
}
