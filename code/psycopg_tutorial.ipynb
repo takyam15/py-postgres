{
 "cells": [
  {
   "cell_type": "code",
   "execution_count": 1,
   "id": "2c1041db-a6f3-4a8b-9b8d-f9140f6c5cc3",
   "metadata": {},
   "outputs": [],
   "source": [
    "%run get_env.py"
   ]
  },
  {
   "cell_type": "code",
   "execution_count": 2,
   "id": "01e7fa65-50d8-47cc-9ce2-738adbad6d0b",
   "metadata": {},
   "outputs": [],
   "source": [
    "# Note: the module name is psycopg, not psycopg3\n",
    "import psycopg\n",
    "\n",
    "# Connect to an existing database\n",
    "with psycopg.connect(\n",
    "    f\"dbname={dbname} user={user} password={password} host={host}\"\n",
    ") as conn:\n",
    "\n",
    "    # Open a cursor to perform database operations\n",
    "    with conn.cursor() as cur:\n",
    "\n",
    "        # Execute a command: this creates a new table\n",
    "        cur.execute(\"\"\"\n",
    "            CREATE TABLE test (\n",
    "                id serial PRIMARY KEY,\n",
    "                num integer,\n",
    "                data text)\n",
    "            \"\"\")\n",
    "\n",
    "        # Pass data to fill a query placeholders and let Psycopg perform\n",
    "        # the correct conversion (no SQL injections!)\n",
    "        cur.execute(\n",
    "            \"INSERT INTO test (num, data) VALUES (%s, %s)\",\n",
    "            (100, \"abc'def\"))\n",
    "\n",
    "        # Query the database and obtain data as Python objects.\n",
    "        cur.execute(\"SELECT * FROM test\")\n",
    "        cur.fetchone()\n",
    "        # will return (1, 100, \"abc'def\")\n",
    "\n",
    "        # You can use `cur.fetchmany()`, `cur.fetchall()` to return a list\n",
    "        # of several records, or even iterate on the cursor\n",
    "        for record in cur:\n",
    "            print(record)\n",
    "\n",
    "        # Make the changes to the database persistent\n",
    "        conn.commit()"
   ]
  }
 ],
 "metadata": {
  "kernelspec": {
   "display_name": "Python 3 (ipykernel)",
   "language": "python",
   "name": "python3"
  },
  "language_info": {
   "codemirror_mode": {
    "name": "ipython",
    "version": 3
   },
   "file_extension": ".py",
   "mimetype": "text/x-python",
   "name": "python",
   "nbconvert_exporter": "python",
   "pygments_lexer": "ipython3",
   "version": "3.12.4"
  }
 },
 "nbformat": 4,
 "nbformat_minor": 5
}
